{
 "cells": [
  {
   "cell_type": "markdown",
   "id": "44ba5145-8153-4857-9dd3-fcc9820e9df3",
   "metadata": {},
   "source": [
    "# Outils et écosystème de la science des données"
   ]
  },
  {
   "cell_type": "markdown",
   "id": "8ebb1ec7-b9a8-469e-9f05-9ad0b615ffb9",
   "metadata": {},
   "source": [
    "Dans ce notebook, les outils et l'écosystème de la science des données sont résumés."
   ]
  },
  {
   "cell_type": "markdown",
   "id": "f8c3370d-a741-479a-9209-4ff8a0753fc1",
   "metadata": {},
   "source": [
    "**Objectifs :**\n",
    "\n",
    "- Lister les langages populaires pour la science des données\n",
    "- Lister les bibliothèques couramment utilisées par les scientifiques des données\n",
    "- Introduire un exemples d’expression arithmétique"
   ]
  },
  {
   "cell_type": "markdown",
   "id": "9968fa71-bf79-4bb4-8a36-81eb8eef1653",
   "metadata": {},
   "source": [
    "Certains des langages populaires que les scientifiques des données utilisent sont :\n",
    "\n",
    "1. Python\n",
    "2. R\n",
    "3. SQL\n",
    "4. Excel\n",
    "5. Power BI"
   ]
  },
  {
   "cell_type": "markdown",
   "id": "f83893d6-f1d1-402d-a330-b48d12c27f2a",
   "metadata": {},
   "source": [
    "Certaines des bibliothèques couramment utilisées par les scientifiques des données incluent :\n",
    "\n",
    "1. Pandas\n",
    "2. Scikit-learn\n",
    "3. tidyverse\n",
    "4. tidymodels\n",
    "5. Tensor"
   ]
  },
  {
   "cell_type": "markdown",
   "id": "6aaf6970-0f84-4074-a383-94749024f78d",
   "metadata": {},
   "source": [
    "| Outils de la science des données |\n",
    "| --- |\n",
    "| Jupyter Notebook |\n",
    "| KNIME Analytics Platform |\n",
    "| Apache Spark |"
   ]
  },
  {
   "cell_type": "markdown",
   "id": "8c98216b-fb1f-4496-9fc6-3815eb22f0f3",
   "metadata": {},
   "source": [
    "Voici quelques exemples d'évaluation d'expressions arithmétiques en Python"
   ]
  },
  {
   "cell_type": "code",
   "execution_count": 5,
   "id": "0bbd47e8-7eed-45fd-84d3-123cf3b9f3be",
   "metadata": {},
   "outputs": [
    {
     "data": {
      "text/plain": [
       "17"
      ]
     },
     "execution_count": 5,
     "metadata": {},
     "output_type": "execute_result"
    }
   ],
   "source": [
    "# Ceci est une simple expression arithmétique pour multiplier puis additionner des entiers\n",
    "\n",
    "(3*4)+5"
   ]
  },
  {
   "cell_type": "code",
   "execution_count": 6,
   "id": "7bd88df8-78e8-4938-b022-a2cec9c9450b",
   "metadata": {},
   "outputs": [
    {
     "data": {
      "text/plain": [
       "3.3333333333333335"
      ]
     },
     "execution_count": 6,
     "metadata": {},
     "output_type": "execute_result"
    }
   ],
   "source": [
    "minutes = 200\n",
    "\n",
    "# Cela convertira 200 minutes en heures en divisant par 60\n",
    "heures = minutes/60\n",
    "\n",
    "heures"
   ]
  },
  {
   "cell_type": "markdown",
   "id": "b779a680-66fd-4adc-adc6-cd917db69d36",
   "metadata": {},
   "source": [
    "## Autheur"
   ]
  },
  {
   "cell_type": "markdown",
   "id": "feae7a04-6e6c-47e1-8809-6384df0f1bd2",
   "metadata": {},
   "source": [
    "Kouassi Paul Emmanuel"
   ]
  }
 ],
 "metadata": {
  "kernelspec": {
   "display_name": "Python 3 (ipykernel)",
   "language": "python",
   "name": "python3"
  },
  "language_info": {
   "codemirror_mode": {
    "name": "ipython",
    "version": 3
   },
   "file_extension": ".py",
   "mimetype": "text/x-python",
   "name": "python",
   "nbconvert_exporter": "python",
   "pygments_lexer": "ipython3",
   "version": "3.12.8"
  }
 },
 "nbformat": 4,
 "nbformat_minor": 5
}
